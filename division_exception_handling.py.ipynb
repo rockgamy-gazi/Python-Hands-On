{
 "cells": [
  {
   "cell_type": "code",
   "execution_count": null,
   "id": "4888e28e",
   "metadata": {},
   "outputs": [],
   "source": [
    "# Division Calculator with Exception Handling\n",
    "\n",
    "try:\n",
    "    # Get user input\n",
    "    number1 = float(input(\"Enter the first number: \"))\n",
    "    number2 = float(input(\"Enter the second number: \"))\n",
    "\n",
    "    # Attempt division\n",
    "    result = number1 / number2\n",
    "    print(f\"The result of {number1} ÷ {number2} is {result}\")\n",
    "\n",
    "except ZeroDivisionError:\n",
    "    # Handle division by zero\n",
    "    print(\"Error: Division by zero is not allowed. Please enter a non-zero denominator.\")\n",
    "\n",
    "except ValueError:\n",
    "    # Handle invalid input (like entering text instead of a number)\n",
    "    print(\"Error: Invalid input. Please enter numeric values only.\")\n",
    "\n",
    "except Exception as e:\n",
    "    # Catch any other unexpected error\n",
    "    print(f\"An unexpected error occurred: {e}\")\n"
   ]
  }
 ],
 "metadata": {
  "kernelspec": {
   "display_name": "Python 3.13",
   "language": "python",
   "name": "py313"
  },
  "language_info": {
   "codemirror_mode": {
    "name": "ipython",
    "version": 3
   },
   "file_extension": ".py",
   "mimetype": "text/x-python",
   "name": "python",
   "nbconvert_exporter": "python",
   "pygments_lexer": "ipython3",
   "version": "3.13.7"
  }
 },
 "nbformat": 4,
 "nbformat_minor": 5
}
